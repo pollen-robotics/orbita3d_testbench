{
 "cells": [
  {
   "cell_type": "markdown",
   "id": "ada3a43f-9176-4b41-9405-55fe1baf2f58",
   "metadata": {},
   "source": [
    "# Orbita3d control python API\n",
    "\n",
    "This is a simple example of the python API for controlling Orbita3d actuator. \n",
    "\n",
    "The installation procedure can be found in the [orbita3d_control docs](https://pollen-robotics.github.io/orbita3d_control/installation/python/)\n",
    "\n",
    "In short, you'll need:\n",
    "- Installed rust\n",
    "- Installed EtherCAT IgH master\n",
    "- create a virtual env `python -m venv venv && source venv/bin/activate`\n",
    "- Install the `pip` requirements\n",
    "\n",
    "  `pip install -r requirements.txt --verbose`\n",
    "  \n",
    "  > This command will take somet time (cca 5mins)\n",
    "for Jupyter notebook:\n",
    "- `pip install ipykernel`\n",
    "- `pip install jupyterlab`\n",
    "- `python -m ipykernel install --user --name=venv` \n",
    "- `jupyter lab` (then be sure to switch to the kernel related to your venv)\n",
    "\n",
    "You can find the full python API docs [here](https://pollen-robotics.github.io/orbita3d_control/api/orbita3d_c_api/python/orbita3d.html)"
   ]
  },
  {
   "cell_type": "code",
   "execution_count": 3,
   "id": "5d45c868-de54-43f4-afe1-699b3079fe71",
   "metadata": {},
   "outputs": [],
   "source": [
    "import numpy as np\n",
    "import time\n",
    "from poulpe_ethercat_py import PyEthercatServer\n",
    "from orbita3d import Orbita3dController"
   ]
  },
  {
   "cell_type": "code",
   "execution_count": 4,
   "id": "39d48513-4721-42c4-97db-cd54e6c5877b",
   "metadata": {},
   "outputs": [
    {
     "name": "stdout",
     "output_type": "stream",
     "text": [
      "POULPE controller ready!\n"
     ]
    }
   ],
   "source": [
    "# Start the EtherCAT master\n",
    "server = PyEthercatServer()\n",
    "server.launch_server(\"ethercat.yaml\")\n",
    "# give some time for the master to start\n",
    "time.sleep(1)"
   ]
  },
  {
   "cell_type": "code",
   "execution_count": 7,
   "id": "a960b652-7ace-4ccf-bd60-3bca43d89d74",
   "metadata": {},
   "outputs": [],
   "source": [
    "\n",
    "# connect to the actuator\n",
    "orbita = Orbita3dController.from_config(\"orbita3d_config.yaml\")\n",
    "\n",
    "# enable the actuator\n",
    "orbita.enable_torque(reset_target=True)\n",
    "\n",
    "# do a simple sinusoidal movement of the actuator\n",
    "t0 = time.time()\n",
    "while time.time() - t0 < 15:\n",
    "    yaw = np.deg2rad(20) * np.sin(2 * np.pi * 0.15 * time.time())\n",
    "    orbita.set_target_rpy_orientation((0.0, 0.0, yaw))\n",
    "    time.sleep(0.001)\n",
    "\n",
    "# disable the actuator\n",
    "orbita.disable_torque()"
   ]
  },
  {
   "cell_type": "code",
   "execution_count": null,
   "id": "bd45817b-d8d4-4c54-8bb2-a1b9d9f0f2fc",
   "metadata": {},
   "outputs": [],
   "source": []
  }
 ],
 "metadata": {
  "kernelspec": {
   "display_name": "Python 3 (ipykernel)",
   "language": "python",
   "name": "python3"
  },
  "language_info": {
   "codemirror_mode": {
    "name": "ipython",
    "version": 3
   },
   "file_extension": ".py",
   "mimetype": "text/x-python",
   "name": "python",
   "nbconvert_exporter": "python",
   "pygments_lexer": "ipython3",
   "version": "3.13.2"
  }
 },
 "nbformat": 4,
 "nbformat_minor": 5
}
